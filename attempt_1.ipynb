{
 "cells": [
  {
   "cell_type": "markdown",
   "metadata": {},
   "source": [
    "# SCIKIT TUTORIALS"
   ]
  },
  {
   "cell_type": "code",
   "execution_count": 1,
   "metadata": {},
   "outputs": [],
   "source": [
    "import tensorflow as tf"
   ]
  },
  {
   "cell_type": "code",
   "execution_count": 2,
   "metadata": {},
   "outputs": [],
   "source": [
    "import matplotlib.pyplot as plt\n",
    "import numpy as np\n",
    "import os\n",
    "import pandas as pd\n",
    "from sklearn.linear_model import *"
   ]
  },
  {
   "cell_type": "code",
   "execution_count": 11,
   "metadata": {},
   "outputs": [
    {
     "data": {
      "text/plain": [
       "'C:\\\\Users\\\\Anish'"
      ]
     },
     "execution_count": 11,
     "metadata": {},
     "output_type": "execute_result"
    }
   ],
   "source": [
    "os.getcwd()"
   ]
  },
  {
   "cell_type": "code",
   "execution_count": 12,
   "metadata": {},
   "outputs": [],
   "source": [
    "data=pd.read_csv(os.getcwd()+'\\\\Downloads\\\\2019\\\\final.csv')"
   ]
  },
  {
   "cell_type": "code",
   "execution_count": 13,
   "metadata": {},
   "outputs": [
    {
     "data": {
      "text/html": [
       "<div>\n",
       "<style scoped>\n",
       "    .dataframe tbody tr th:only-of-type {\n",
       "        vertical-align: middle;\n",
       "    }\n",
       "\n",
       "    .dataframe tbody tr th {\n",
       "        vertical-align: top;\n",
       "    }\n",
       "\n",
       "    .dataframe thead th {\n",
       "        text-align: right;\n",
       "    }\n",
       "</style>\n",
       "<table border=\"1\" class=\"dataframe\">\n",
       "  <thead>\n",
       "    <tr style=\"text-align: right;\">\n",
       "      <th></th>\n",
       "      <th>r</th>\n",
       "      <th>tmin</th>\n",
       "      <th>tmax</th>\n",
       "      <th>hmin</th>\n",
       "      <th>hmax</th>\n",
       "      <th>wmin</th>\n",
       "      <th>wmax</th>\n",
       "      <th>date</th>\n",
       "      <th>month</th>\n",
       "    </tr>\n",
       "  </thead>\n",
       "  <tbody>\n",
       "    <tr>\n",
       "      <th>0</th>\n",
       "      <td>0.0</td>\n",
       "      <td>9.8</td>\n",
       "      <td>28.6</td>\n",
       "      <td>18.60</td>\n",
       "      <td>73.2</td>\n",
       "      <td>0.0</td>\n",
       "      <td>8.1</td>\n",
       "      <td>1</td>\n",
       "      <td>1</td>\n",
       "    </tr>\n",
       "    <tr>\n",
       "      <th>1</th>\n",
       "      <td>0.0</td>\n",
       "      <td>14.5</td>\n",
       "      <td>29.7</td>\n",
       "      <td>18.50</td>\n",
       "      <td>63.4</td>\n",
       "      <td>0.0</td>\n",
       "      <td>5.2</td>\n",
       "      <td>2</td>\n",
       "      <td>1</td>\n",
       "    </tr>\n",
       "    <tr>\n",
       "      <th>2</th>\n",
       "      <td>0.0</td>\n",
       "      <td>12.3</td>\n",
       "      <td>30.1</td>\n",
       "      <td>25.10</td>\n",
       "      <td>83.2</td>\n",
       "      <td>0.0</td>\n",
       "      <td>9.1</td>\n",
       "      <td>3</td>\n",
       "      <td>1</td>\n",
       "    </tr>\n",
       "    <tr>\n",
       "      <th>3</th>\n",
       "      <td>0.0</td>\n",
       "      <td>13.9</td>\n",
       "      <td>31.8</td>\n",
       "      <td>21.60</td>\n",
       "      <td>83.1</td>\n",
       "      <td>0.0</td>\n",
       "      <td>7.1</td>\n",
       "      <td>4</td>\n",
       "      <td>1</td>\n",
       "    </tr>\n",
       "    <tr>\n",
       "      <th>4</th>\n",
       "      <td>0.0</td>\n",
       "      <td>15.1</td>\n",
       "      <td>30.7</td>\n",
       "      <td>32.30</td>\n",
       "      <td>89.0</td>\n",
       "      <td>0.0</td>\n",
       "      <td>0.1</td>\n",
       "      <td>5</td>\n",
       "      <td>1</td>\n",
       "    </tr>\n",
       "    <tr>\n",
       "      <th>...</th>\n",
       "      <td>...</td>\n",
       "      <td>...</td>\n",
       "      <td>...</td>\n",
       "      <td>...</td>\n",
       "      <td>...</td>\n",
       "      <td>...</td>\n",
       "      <td>...</td>\n",
       "      <td>...</td>\n",
       "      <td>...</td>\n",
       "    </tr>\n",
       "    <tr>\n",
       "      <th>339</th>\n",
       "      <td>0.0</td>\n",
       "      <td>19.6</td>\n",
       "      <td>27.2</td>\n",
       "      <td>74.20</td>\n",
       "      <td>100.0</td>\n",
       "      <td>0.0</td>\n",
       "      <td>11.0</td>\n",
       "      <td>27</td>\n",
       "      <td>12</td>\n",
       "    </tr>\n",
       "    <tr>\n",
       "      <th>340</th>\n",
       "      <td>0.0</td>\n",
       "      <td>18.9</td>\n",
       "      <td>28.3</td>\n",
       "      <td>74.60</td>\n",
       "      <td>95.4</td>\n",
       "      <td>0.0</td>\n",
       "      <td>10.5</td>\n",
       "      <td>28</td>\n",
       "      <td>12</td>\n",
       "    </tr>\n",
       "    <tr>\n",
       "      <th>341</th>\n",
       "      <td>0.0</td>\n",
       "      <td>16.9</td>\n",
       "      <td>27.1</td>\n",
       "      <td>72.40</td>\n",
       "      <td>88.0</td>\n",
       "      <td>0.0</td>\n",
       "      <td>10.5</td>\n",
       "      <td>29</td>\n",
       "      <td>12</td>\n",
       "    </tr>\n",
       "    <tr>\n",
       "      <th>342</th>\n",
       "      <td>0.0</td>\n",
       "      <td>16.0</td>\n",
       "      <td>27.0</td>\n",
       "      <td>69.75</td>\n",
       "      <td>98.6</td>\n",
       "      <td>0.0</td>\n",
       "      <td>8.6</td>\n",
       "      <td>30</td>\n",
       "      <td>12</td>\n",
       "    </tr>\n",
       "    <tr>\n",
       "      <th>343</th>\n",
       "      <td>0.0</td>\n",
       "      <td>19.9</td>\n",
       "      <td>26.5</td>\n",
       "      <td>61.80</td>\n",
       "      <td>94.4</td>\n",
       "      <td>0.0</td>\n",
       "      <td>10.9</td>\n",
       "      <td>31</td>\n",
       "      <td>12</td>\n",
       "    </tr>\n",
       "  </tbody>\n",
       "</table>\n",
       "<p>344 rows × 9 columns</p>\n",
       "</div>"
      ],
      "text/plain": [
       "       r  tmin  tmax   hmin   hmax  wmin  wmax  date  month\n",
       "0    0.0   9.8  28.6  18.60   73.2   0.0   8.1     1      1\n",
       "1    0.0  14.5  29.7  18.50   63.4   0.0   5.2     2      1\n",
       "2    0.0  12.3  30.1  25.10   83.2   0.0   9.1     3      1\n",
       "3    0.0  13.9  31.8  21.60   83.1   0.0   7.1     4      1\n",
       "4    0.0  15.1  30.7  32.30   89.0   0.0   0.1     5      1\n",
       "..   ...   ...   ...    ...    ...   ...   ...   ...    ...\n",
       "339  0.0  19.6  27.2  74.20  100.0   0.0  11.0    27     12\n",
       "340  0.0  18.9  28.3  74.60   95.4   0.0  10.5    28     12\n",
       "341  0.0  16.9  27.1  72.40   88.0   0.0  10.5    29     12\n",
       "342  0.0  16.0  27.0  69.75   98.6   0.0   8.6    30     12\n",
       "343  0.0  19.9  26.5  61.80   94.4   0.0  10.9    31     12\n",
       "\n",
       "[344 rows x 9 columns]"
      ]
     },
     "execution_count": 13,
     "metadata": {},
     "output_type": "execute_result"
    }
   ],
   "source": [
    "data"
   ]
  },
  {
   "cell_type": "code",
   "execution_count": 14,
   "metadata": {},
   "outputs": [],
   "source": [
    "trainx=[[23.90,30.10,74.20,94.60,0.6,2.6,24,29,76,85,0,6,0.8]]\n",
    "trainy=[3.5]\n",
    "for i in range(1,70):\n",
    "    trainx.append([data['tmin'][i],data['tmax'][i],data['hmin'][i],data['hmax'][i],data['wmin'][i],data['wmax'][i],\n",
    "                   data['tmin'][i-1],data['tmax'][i-1],data['hmin'][i-1],data['hmax'][i-1],data['wmin'][i-1],data['wmax'][i-1],data['r'][i-1]])\n",
    "    trainy.append(data['r'][i])"
   ]
  },
  {
   "cell_type": "code",
   "execution_count": 15,
   "metadata": {},
   "outputs": [],
   "source": [
    "xt=[]\n",
    "for i in range(0,70):\n",
    "    xt.append(i)"
   ]
  },
  {
   "cell_type": "code",
   "execution_count": 17,
   "metadata": {},
   "outputs": [
    {
     "name": "stdout",
     "output_type": "stream",
     "text": [
      "Epoch 1/100\n",
      "3/3 [==============================] - 0s 39ms/step - loss: 72.9765\n",
      "Epoch 2/100\n",
      "3/3 [==============================] - 0s 25ms/step - loss: 6.8027\n",
      "Epoch 3/100\n",
      "3/3 [==============================] - 0s 29ms/step - loss: 6.8027\n",
      "Epoch 4/100\n",
      "3/3 [==============================] - 0s 20ms/step - loss: 6.8027\n",
      "Epoch 5/100\n",
      "3/3 [==============================] - 0s 22ms/step - loss: 6.8027\n",
      "Epoch 6/100\n",
      "3/3 [==============================] - 0s 21ms/step - loss: 6.8027\n",
      "Epoch 7/100\n",
      "3/3 [==============================] - 0s 20ms/step - loss: 6.8027\n",
      "Epoch 8/100\n",
      "3/3 [==============================] - 0s 20ms/step - loss: 6.8027\n",
      "Epoch 9/100\n",
      "3/3 [==============================] - 0s 19ms/step - loss: 6.8027\n",
      "Epoch 10/100\n",
      "3/3 [==============================] - 0s 19ms/step - loss: 6.8027\n",
      "Epoch 11/100\n",
      "3/3 [==============================] - 0s 20ms/step - loss: 6.8027\n",
      "Epoch 12/100\n",
      "3/3 [==============================] - 0s 20ms/step - loss: 6.8027\n",
      "Epoch 13/100\n",
      "3/3 [==============================] - 0s 21ms/step - loss: 6.8027\n",
      "Epoch 14/100\n",
      "3/3 [==============================] - 0s 22ms/step - loss: 6.8027\n",
      "Epoch 15/100\n",
      "3/3 [==============================] - 0s 19ms/step - loss: 6.8027\n",
      "Epoch 16/100\n",
      "3/3 [==============================] - 0s 23ms/step - loss: 6.8027\n",
      "Epoch 17/100\n",
      "3/3 [==============================] - 0s 26ms/step - loss: 6.8027\n",
      "Epoch 18/100\n",
      "3/3 [==============================] - 0s 22ms/step - loss: 6.8027\n",
      "Epoch 19/100\n",
      "3/3 [==============================] - 0s 19ms/step - loss: 6.8027\n",
      "Epoch 20/100\n",
      "3/3 [==============================] - 0s 21ms/step - loss: 6.8027\n",
      "Epoch 21/100\n",
      "3/3 [==============================] - 0s 18ms/step - loss: 6.8027\n",
      "Epoch 22/100\n",
      "3/3 [==============================] - 0s 20ms/step - loss: 6.8027\n",
      "Epoch 23/100\n",
      "3/3 [==============================] - 0s 19ms/step - loss: 6.8027\n",
      "Epoch 24/100\n",
      "3/3 [==============================] - 0s 18ms/step - loss: 6.8027\n",
      "Epoch 25/100\n",
      "3/3 [==============================] - 0s 19ms/step - loss: 6.8027\n",
      "Epoch 26/100\n",
      "3/3 [==============================] - 0s 19ms/step - loss: 6.8027\n",
      "Epoch 27/100\n",
      "3/3 [==============================] - 0s 20ms/step - loss: 6.8027\n",
      "Epoch 28/100\n",
      "3/3 [==============================] - 0s 19ms/step - loss: 6.8027\n",
      "Epoch 29/100\n",
      "3/3 [==============================] - 0s 20ms/step - loss: 6.8027\n",
      "Epoch 30/100\n",
      "3/3 [==============================] - 0s 19ms/step - loss: 6.8027\n",
      "Epoch 31/100\n",
      "3/3 [==============================] - 0s 21ms/step - loss: 6.8027\n",
      "Epoch 32/100\n",
      "3/3 [==============================] - 0s 21ms/step - loss: 6.8027\n",
      "Epoch 33/100\n",
      "3/3 [==============================] - 0s 22ms/step - loss: 6.8027\n",
      "Epoch 34/100\n",
      "3/3 [==============================] - 0s 20ms/step - loss: 6.8027\n",
      "Epoch 35/100\n",
      "3/3 [==============================] - 0s 25ms/step - loss: 6.8027\n",
      "Epoch 36/100\n",
      "3/3 [==============================] - 0s 24ms/step - loss: 6.8027\n",
      "Epoch 37/100\n",
      "3/3 [==============================] - 0s 20ms/step - loss: 6.8027\n",
      "Epoch 38/100\n",
      "3/3 [==============================] - 0s 19ms/step - loss: 6.8027\n",
      "Epoch 39/100\n",
      "3/3 [==============================] - 0s 19ms/step - loss: 6.8027\n",
      "Epoch 40/100\n",
      "3/3 [==============================] - 0s 18ms/step - loss: 6.8027\n",
      "Epoch 41/100\n",
      "3/3 [==============================] - 0s 18ms/step - loss: 6.8027\n",
      "Epoch 42/100\n",
      "3/3 [==============================] - 0s 19ms/step - loss: 6.8027\n",
      "Epoch 43/100\n",
      "3/3 [==============================] - 0s 18ms/step - loss: 6.8027\n",
      "Epoch 44/100\n",
      "3/3 [==============================] - 0s 20ms/step - loss: 6.8027\n",
      "Epoch 45/100\n",
      "3/3 [==============================] - 0s 21ms/step - loss: 6.8027\n",
      "Epoch 46/100\n",
      "3/3 [==============================] - 0s 23ms/step - loss: 6.8027\n",
      "Epoch 47/100\n",
      "3/3 [==============================] - 0s 21ms/step - loss: 6.8027\n",
      "Epoch 48/100\n",
      "3/3 [==============================] - 0s 19ms/step - loss: 6.8027\n",
      "Epoch 49/100\n",
      "3/3 [==============================] - 0s 20ms/step - loss: 6.8027\n",
      "Epoch 50/100\n",
      "3/3 [==============================] - 0s 19ms/step - loss: 6.8027\n",
      "Epoch 51/100\n",
      "3/3 [==============================] - 0s 19ms/step - loss: 6.8027\n",
      "Epoch 52/100\n",
      "3/3 [==============================] - 0s 20ms/step - loss: 6.8027\n",
      "Epoch 53/100\n",
      "3/3 [==============================] - 0s 21ms/step - loss: 6.8027\n",
      "Epoch 54/100\n",
      "3/3 [==============================] - 0s 19ms/step - loss: 6.8027\n",
      "Epoch 55/100\n",
      "3/3 [==============================] - 0s 19ms/step - loss: 6.8027\n",
      "Epoch 56/100\n",
      "3/3 [==============================] - 0s 20ms/step - loss: 6.8027\n",
      "Epoch 57/100\n",
      "3/3 [==============================] - 0s 21ms/step - loss: 6.8027\n",
      "Epoch 58/100\n",
      "3/3 [==============================] - 0s 20ms/step - loss: 6.8027\n",
      "Epoch 59/100\n",
      "3/3 [==============================] - 0s 20ms/step - loss: 6.8027\n",
      "Epoch 60/100\n",
      "3/3 [==============================] - 0s 18ms/step - loss: 6.8027\n",
      "Epoch 61/100\n",
      "3/3 [==============================] - 0s 18ms/step - loss: 6.8027\n",
      "Epoch 62/100\n",
      "3/3 [==============================] - 0s 16ms/step - loss: 6.8027\n",
      "Epoch 63/100\n",
      "3/3 [==============================] - 0s 19ms/step - loss: 6.8027\n",
      "Epoch 64/100\n",
      "3/3 [==============================] - 0s 20ms/step - loss: 6.8027\n",
      "Epoch 65/100\n",
      "3/3 [==============================] - 0s 16ms/step - loss: 6.8027\n",
      "Epoch 66/100\n",
      "3/3 [==============================] - 0s 19ms/step - loss: 6.8027\n",
      "Epoch 67/100\n",
      "3/3 [==============================] - 0s 20ms/step - loss: 6.8027\n",
      "Epoch 68/100\n",
      "3/3 [==============================] - 0s 21ms/step - loss: 6.8027\n",
      "Epoch 69/100\n",
      "3/3 [==============================] - 0s 21ms/step - loss: 6.8027\n",
      "Epoch 70/100\n",
      "3/3 [==============================] - 0s 18ms/step - loss: 6.8027\n",
      "Epoch 71/100\n",
      "3/3 [==============================] - 0s 19ms/step - loss: 6.8027\n",
      "Epoch 72/100\n",
      "3/3 [==============================] - 0s 18ms/step - loss: 6.8027\n",
      "Epoch 73/100\n",
      "3/3 [==============================] - 0s 18ms/step - loss: 6.8027\n",
      "Epoch 74/100\n",
      "3/3 [==============================] - 0s 19ms/step - loss: 6.8027\n",
      "Epoch 75/100\n",
      "3/3 [==============================] - 0s 17ms/step - loss: 6.8027\n",
      "Epoch 76/100\n",
      "3/3 [==============================] - 0s 22ms/step - loss: 6.8027\n",
      "Epoch 77/100\n",
      "3/3 [==============================] - 0s 16ms/step - loss: 6.8027\n",
      "Epoch 78/100\n",
      "3/3 [==============================] - 0s 18ms/step - loss: 6.8027\n",
      "Epoch 79/100\n",
      "3/3 [==============================] - 0s 16ms/step - loss: 6.8027\n",
      "Epoch 80/100\n",
      "3/3 [==============================] - 0s 23ms/step - loss: 6.8027\n",
      "Epoch 81/100\n",
      "3/3 [==============================] - 0s 21ms/step - loss: 6.8027\n",
      "Epoch 82/100\n",
      "3/3 [==============================] - 0s 16ms/step - loss: 6.8027\n",
      "Epoch 83/100\n",
      "3/3 [==============================] - 0s 21ms/step - loss: 6.8027\n",
      "Epoch 84/100\n",
      "3/3 [==============================] - 0s 16ms/step - loss: 6.8027\n",
      "Epoch 85/100\n",
      "3/3 [==============================] - 0s 15ms/step - loss: 6.8027\n",
      "Epoch 86/100\n",
      "3/3 [==============================] - 0s 11ms/step - loss: 6.8027\n",
      "Epoch 87/100\n",
      "3/3 [==============================] - 0s 16ms/step - loss: 6.8027\n",
      "Epoch 88/100\n",
      "3/3 [==============================] - 0s 16ms/step - loss: 6.8027\n",
      "Epoch 89/100\n",
      "3/3 [==============================] - 0s 16ms/step - loss: 6.8027\n",
      "Epoch 90/100\n",
      "3/3 [==============================] - 0s 16ms/step - loss: 6.8027\n",
      "Epoch 91/100\n",
      "3/3 [==============================] - 0s 16ms/step - loss: 6.8027\n",
      "Epoch 92/100\n",
      "3/3 [==============================] - 0s 16ms/step - loss: 6.8027\n",
      "Epoch 93/100\n",
      "3/3 [==============================] - 0s 17ms/step - loss: 6.8027\n",
      "Epoch 94/100\n",
      "3/3 [==============================] - 0s 19ms/step - loss: 6.8027\n",
      "Epoch 95/100\n",
      "3/3 [==============================] - 0s 16ms/step - loss: 6.8027\n",
      "Epoch 96/100\n",
      "3/3 [==============================] - 0s 18ms/step - loss: 6.8027\n",
      "Epoch 97/100\n",
      "3/3 [==============================] - 0s 22ms/step - loss: 6.8027\n",
      "Epoch 98/100\n",
      "3/3 [==============================] - 0s 26ms/step - loss: 6.8027\n",
      "Epoch 99/100\n",
      "3/3 [==============================] - 0s 14ms/step - loss: 6.8027\n",
      "Epoch 100/100\n",
      "3/3 [==============================] - 0s 22ms/step - loss: 6.8027\n"
     ]
    },
    {
     "data": {
      "text/plain": [
       "<tensorflow.python.keras.callbacks.History at 0x1126a348>"
      ]
     },
     "execution_count": 17,
     "metadata": {},
     "output_type": "execute_result"
    }
   ],
   "source": [
    "m=tf.keras.models.Sequential([tf.keras.layers.Dense(1,activation='relu'),\n",
    "                   tf.keras.layers.Dense(1024,activation='relu'),\n",
    "                   tf.keras.layers.Dense(512,activation='relu'),\n",
    "                   tf.keras.layers.Dense(1024,activation='relu'),\n",
    "                   tf.keras.layers.Dense(1024,activation='relu'),\n",
    "                   tf.keras.layers.Dense(1,activation='relu')])\n",
    "m.compile(optimizer='adam',loss='mean_squared_error')\n",
    "m.fit(trainx,trainy,epochs=100)"
   ]
  },
  {
   "cell_type": "code",
   "execution_count": 9,
   "metadata": {},
   "outputs": [],
   "source": [
    "t11=[]\n",
    "h11=[]\n",
    "ti=[]\n",
    "t12=[]\n",
    "for i in range(70):\n",
    "    t11.append([data['temp_max '][i]-data['temp_min '][i]])\n",
    "    q=-data['humidity_min (%)'][i]+data['Humidity_max (%)'][i]\n",
    "    h11.append([q])\n",
    "    ti.append(i)\n",
    "    t12.append(data['temp_max '][i]-data['temp_min '][i])"
   ]
  },
  {
   "cell_type": "code",
   "execution_count": 234,
   "metadata": {},
   "outputs": [],
   "source": [
    "reg=LinearRegression().fit(h11,t11)"
   ]
  },
  {
   "cell_type": "code",
   "execution_count": 310,
   "metadata": {},
   "outputs": [],
   "source": [
    "yp=[]\n",
    "for i in range(70):\n",
    "    yp.append(reg.predict([h11[i]]).item())"
   ]
  },
  {
   "cell_type": "code",
   "execution_count": 311,
   "metadata": {},
   "outputs": [
    {
     "data": {
      "text/plain": [
       "[<matplotlib.lines.Line2D at 0x17a9d388>]"
      ]
     },
     "execution_count": 311,
     "metadata": {},
     "output_type": "execute_result"
    },
    {
     "data": {
      "image/png": "[encoded data removed]",
      "text/plain": [
       "<Figure size 432x288 with 1 Axes>"
      ]
     },
     "metadata": {
      "needs_background": "light"
     },
     "output_type": "display_data"
    }
   ],
   "source": [
    "plt.plot(ti,t12)\n",
    "plt.plot(ti,yp,color='red')"
   ]
  },
  {
   "cell_type": "code",
   "execution_count": 308,
   "metadata": {},
   "outputs": [],
   "source": [
    "reg.coef_=reg.coef_+0.035"
   ]
  },
  {
   "cell_type": "code",
   "execution_count": 309,
   "metadata": {},
   "outputs": [
    {
     "data": {
      "text/plain": [
       "array([[0.2518092]])"
      ]
     },
     "execution_count": 309,
     "metadata": {},
     "output_type": "execute_result"
    }
   ],
   "source": [
    "reg.coef_"
   ]
  },
  {
   "cell_type": "code",
   "execution_count": null,
   "metadata": {},
   "outputs": [],
   "source": []
  }
 ],
 "metadata": {
  "kernelspec": {
   "display_name": "Python 3",
   "language": "python",
   "name": "python3"
  },
  "language_info": {
   "codemirror_mode": {
    "name": "ipython",
    "version": 3
   },
   "file_extension": ".py",
   "mimetype": "text/x-python",
   "name": "python",
   "nbconvert_exporter": "python",
   "pygments_lexer": "ipython3",
   "version": "3.7.6"
  }
 },
 "nbformat": 4,
 "nbformat_minor": 4
}
